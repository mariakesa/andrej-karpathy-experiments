{
 "cells": [
  {
   "cell_type": "code",
   "execution_count": 4,
   "metadata": {},
   "outputs": [
    {
     "name": "stdout",
     "output_type": "stream",
     "text": [
      "{'A': ['B', 'C'], 'C': ['D'], 'D': ['E'], 'B': ['E']}\n"
     ]
    }
   ],
   "source": [
    "deps=[[\"B\",\"A\"],[\"C\",\"A\"],[\"D\",\"C\"],[\"E\",\"D\"],[\"E\",\"B\"]]\n",
    "#How to construct an adjacency list from a graph?\n",
    "def constr_graph(dependencies):\n",
    "    adjacency_list = {}\n",
    "    for dependency in dependencies:\n",
    "        dependent, prerequisite = dependency\n",
    "        if prerequisite not in adjacency_list:\n",
    "            adjacency_list[prerequisite] = []\n",
    "        adjacency_list[prerequisite].append(dependent)\n",
    "    return adjacency_list\n",
    "print(constr_graph(deps))"
   ]
  }
 ],
 "metadata": {
  "kernelspec": {
   "display_name": ".venv",
   "language": "python",
   "name": "python3"
  },
  "language_info": {
   "codemirror_mode": {
    "name": "ipython",
    "version": 3
   },
   "file_extension": ".py",
   "mimetype": "text/x-python",
   "name": "python",
   "nbconvert_exporter": "python",
   "pygments_lexer": "ipython3",
   "version": "3.12.3"
  }
 },
 "nbformat": 4,
 "nbformat_minor": 2
}
