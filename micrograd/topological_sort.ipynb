{
 "cells": [
  {
   "cell_type": "code",
   "execution_count": 7,
   "metadata": {},
   "outputs": [
    {
     "name": "stdout",
     "output_type": "stream",
     "text": [
      "{'A': ['B', 'C'], 'B': ['E'], 'C': ['D'], 'D': ['E'], 'E': []}\n"
     ]
    }
   ],
   "source": [
    "deps=[[\"B\",\"A\"],[\"C\",\"A\"],[\"D\",\"C\"],[\"E\",\"D\"],[\"E\",\"B\"]]\n",
    "#How to construct an adjacency list from a graph?\n",
    "def constr_graph(dependencies):\n",
    "    adjacency_list = {}\n",
    "    for dependency in dependencies:\n",
    "        dependent, prerequisite = dependency\n",
    "        if prerequisite not in adjacency_list:\n",
    "            adjacency_list[prerequisite] = []\n",
    "        if dependent not in adjacency_list:\n",
    "            adjacency_list[dependent] = []\n",
    "        adjacency_list[prerequisite].append(dependent)\n",
    "    return adjacency_list\n",
    "print(constr_graph(deps))"
   ]
  },
  {
   "cell_type": "code",
   "execution_count": 14,
   "metadata": {},
   "outputs": [
    {
     "name": "stdout",
     "output_type": "stream",
     "text": [
      "['A', 'B', 'C', 'D', 'E']\n"
     ]
    }
   ],
   "source": [
    "from collections import deque\n",
    "def order(dependencies):\n",
    "    adjacency_list=constr_graph(dependencies)\n",
    "    indegree = {k:0 for k in adjacency_list.keys()}\n",
    "    queue=deque()\n",
    "    for key, value in adjacency_list.items():\n",
    "        for v in value:\n",
    "            indegree[v] += 1\n",
    "    queue=deque([k for k, v in indegree.items() if v == 0])    \n",
    "    sorted_order = []\n",
    "    while queue:\n",
    "        vertex=queue.popleft()\n",
    "        sorted_order.append(vertex)\n",
    "        children=adjacency_list[vertex]\n",
    "        for c in children:\n",
    "            indegree[c] -= 1\n",
    "            if indegree[c] == 0:\n",
    "                queue.append(c)\n",
    "    # If the sorted order contains all nodes, we have a valid topological sort\n",
    "    if len(sorted_order) == len(adjacency_list):\n",
    "        return sorted_order\n",
    "    else:\n",
    "        # There was a cycle in the graph\n",
    "        return \"Cycle detected, no valid ordering.\"\n",
    "\n",
    "\n",
    "sorted_order=order(deps)\n",
    "print(sorted_order)"
   ]
  },
  {
   "cell_type": "code",
   "execution_count": 15,
   "metadata": {},
   "outputs": [],
   "source": [
    "#The key idea of the algorithm is to keep track of nodes that don't have dependecies and progressively\n",
    "#increment the dependencies of the nodes to 0 as you traverse the graph and add nodes to the ordering.\n",
    "#Start with nodes that don't have depenedencies, add nodes to ordering as the number of their dependencies\n",
    "#goes to zero (as they are visited and added to the ordering)."
   ]
  }
 ],
 "metadata": {
  "kernelspec": {
   "display_name": ".venv",
   "language": "python",
   "name": "python3"
  },
  "language_info": {
   "codemirror_mode": {
    "name": "ipython",
    "version": 3
   },
   "file_extension": ".py",
   "mimetype": "text/x-python",
   "name": "python",
   "nbconvert_exporter": "python",
   "pygments_lexer": "ipython3",
   "version": "3.12.3"
  }
 },
 "nbformat": 4,
 "nbformat_minor": 2
}
