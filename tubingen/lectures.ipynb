{
 "cells": [
  {
   "cell_type": "code",
   "execution_count": 1,
   "metadata": {},
   "outputs": [],
   "source": [
    "import array_to_latex as a2l\n",
    "import jax.numpy as jnp\n",
    "from IPython.display import display, Markdown\n",
    "from jax import vmap\n",
    "import numpy as np"
   ]
  },
  {
   "cell_type": "code",
   "execution_count": 2,
   "metadata": {},
   "outputs": [
    {
     "name": "stdout",
     "output_type": "stream",
     "text": [
      "GPU is available.\n"
     ]
    }
   ],
   "source": [
    "import jax\n",
    "\n",
    "def check_gpu_availability():\n",
    "    backend = jax.lib.xla_bridge.get_backend().platform\n",
    "    if backend == 'gpu':\n",
    "        print(\"GPU is available.\")\n",
    "    else:\n",
    "        print(\"GPU is not available.\")\n",
    "\n",
    "check_gpu_availability()"
   ]
  },
  {
   "cell_type": "code",
   "execution_count": 3,
   "metadata": {},
   "outputs": [],
   "source": [
    "def ltx(a, fmt=\"{:6.5f}\"):\n",
    "    return a2l.to_ltx(np.array(a), frmt=fmt, print_out=False)"
   ]
  },
  {
   "cell_type": "code",
   "execution_count": 4,
   "metadata": {},
   "outputs": [
    {
     "name": "stderr",
     "output_type": "stream",
     "text": [
      "2024-08-24 12:07:19.102696: W external/xla/xla/service/gpu/nvptx_compiler.cc:836] The NVIDIA driver's CUDA version is 12.2 which is older than the PTX compiler version (12.6.20). Because the driver is older than the PTX compiler version, XLA is disabling parallel compilation, which may slow down compilation. You should update your NVIDIA driver or use the NVIDIA-provided CUDA forward compatibility packages.\n"
     ]
    }
   ],
   "source": [
    "def P_a(a):\n",
    "    p=0.5\n",
    "    return a*p+(~a)*(1-p)\n",
    "\n",
    "def P_b(b):\n",
    "    p=0.5\n",
    "    return b*p+(~b)*(1-p)\n",
    "\n",
    "def P_c_ab(c,a,b):\n",
    "    return c==(a==b)\n",
    "\n",
    "def P_abc(a,b,c):\n",
    "    return P_a(a)*P_b(b)*P_c_ab(c,a,b)\n",
    "\n",
    "values=jnp.asarray([0,1],dtype=bool)\n",
    "\n",
    "p=vmap(vmap(vmap(P_abc, in_axes=(None,None,0)),in_axes=(None,0,None)),in_axes=(0,None,None))(values,values,values)\n"
   ]
  }
 ],
 "metadata": {
  "kernelspec": {
   "display_name": ".venv",
   "language": "python",
   "name": "python3"
  },
  "language_info": {
   "codemirror_mode": {
    "name": "ipython",
    "version": 3
   },
   "file_extension": ".py",
   "mimetype": "text/x-python",
   "name": "python",
   "nbconvert_exporter": "python",
   "pygments_lexer": "ipython3",
   "version": "3.12.3"
  }
 },
 "nbformat": 4,
 "nbformat_minor": 2
}
