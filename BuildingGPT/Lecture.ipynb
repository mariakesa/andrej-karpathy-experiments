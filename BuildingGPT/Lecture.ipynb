{
 "cells": [
  {
   "cell_type": "code",
   "execution_count": 16,
   "id": "1c226343",
   "metadata": {},
   "outputs": [],
   "source": [
    "import torch"
   ]
  },
  {
   "cell_type": "code",
   "execution_count": 3,
   "id": "3197fa0e",
   "metadata": {},
   "outputs": [],
   "source": [
    "with open(\"shakespeare.txt\", encoding='utf-8') as f:\n",
    "    text=f.read()"
   ]
  },
  {
   "cell_type": "code",
   "execution_count": 5,
   "id": "fb6d3c95",
   "metadata": {
    "scrolled": false
   },
   "outputs": [
    {
     "data": {
      "text/plain": [
       "\"First Citizen:\\nBefore we proceed any further, hear me speak.\\n\\nAll:\\nSpeak, speak.\\n\\nFirst Citizen:\\nYou are all resolved rather to die than to famish?\\n\\nAll:\\nResolved. resolved.\\n\\nFirst Citizen:\\nFirst, you know Caius Marcius is chief enemy to the people.\\n\\nAll:\\nWe know't, we know't.\\n\\nFirst Citizen:\\nLet us kill him, and we'll have corn at our own price.\\nIs't a verdict?\\n\\nAll:\\nNo more talking on't; let it be done: away, away!\\n\\nSecond Citizen:\\nOne word, good citizens.\\n\\nFirst Citizen:\\nWe are accounted poor citizens, the patricians good.\\nWhat authority surfeits on would relieve us: if they\\nwould yield us but the superfluity, while it were\\nwholesome, we might guess they relieved us humanely;\\nbut they think we are too dear: the leanness that\\nafflicts us, the object of our misery, is as an\\ninventory to particularise their abundance; our\\nsufferance is a gain to them Let us revenge this with\\nour pikes, ere we become rakes: for the gods know I\\nspeak this in hunger for bread, not in thirst for revenge.\\n\\n\""
      ]
     },
     "execution_count": 5,
     "metadata": {},
     "output_type": "execute_result"
    }
   ],
   "source": [
    "text[:1000]"
   ]
  },
  {
   "cell_type": "code",
   "execution_count": 6,
   "id": "e3baf3a3",
   "metadata": {},
   "outputs": [
    {
     "data": {
      "text/plain": [
       "1115394"
      ]
     },
     "execution_count": 6,
     "metadata": {},
     "output_type": "execute_result"
    }
   ],
   "source": [
    "len(text)"
   ]
  },
  {
   "cell_type": "code",
   "execution_count": 9,
   "id": "f6217ca8",
   "metadata": {
    "scrolled": true
   },
   "outputs": [
    {
     "name": "stdout",
     "output_type": "stream",
     "text": [
      "['\\n', ' ', '!', '$', '&', \"'\", ',', '-', '.', '3', ':', ';', '?', 'A', 'B', 'C', 'D', 'E', 'F', 'G', 'H', 'I', 'J', 'K', 'L', 'M', 'N', 'O', 'P', 'Q', 'R', 'S', 'T', 'U', 'V', 'W', 'X', 'Y', 'Z', 'a', 'b', 'c', 'd', 'e', 'f', 'g', 'h', 'i', 'j', 'k', 'l', 'm', 'n', 'o', 'p', 'q', 'r', 's', 't', 'u', 'v', 'w', 'x', 'y', 'z']\n",
      "\n",
      " !$&',-.3:;?ABCDEFGHIJKLMNOPQRSTUVWXYZabcdefghijklmnopqrstuvwxyz\n",
      "65\n"
     ]
    }
   ],
   "source": [
    "chars=sorted(list(set(text)))\n",
    "vocab_size=len(chars)\n",
    "print(chars)\n",
    "print(''.join(chars))\n",
    "print(len(chars))"
   ]
  },
  {
   "cell_type": "code",
   "execution_count": 13,
   "id": "6f4e8842",
   "metadata": {},
   "outputs": [],
   "source": [
    "stoi={s:i for i,s in enumerate(chars)}\n",
    "itos={i:s for i,s in enumerate(chars)}\n",
    "encode=lambda s: [stoi[c] for c in s]\n",
    "decode=lambda i: ''.join([itos[d] for d in i])"
   ]
  },
  {
   "cell_type": "code",
   "execution_count": 15,
   "id": "0727ae52",
   "metadata": {},
   "outputs": [
    {
     "name": "stdout",
     "output_type": "stream",
     "text": [
      "[46, 47, 47, 1, 58, 46, 43, 56, 43, 2]\n",
      "hii there!\n"
     ]
    }
   ],
   "source": [
    "print(encode('hii there!'))\n",
    "print(decode(encode('hii there!')))"
   ]
  },
  {
   "cell_type": "code",
   "execution_count": 17,
   "id": "e183fb8d",
   "metadata": {},
   "outputs": [],
   "source": [
    "data=torch.tensor(encode(text),dtype=torch.long)"
   ]
  },
  {
   "cell_type": "code",
   "execution_count": 19,
   "id": "9d824b1f",
   "metadata": {
    "scrolled": true
   },
   "outputs": [
    {
     "data": {
      "text/plain": [
       "tensor([18, 47, 56, 57, 58,  1, 15, 47, 58, 47, 64, 43, 52, 10,  0, 14, 43, 44,\n",
       "        53, 56, 43,  1, 61, 43,  1, 54, 56, 53, 41, 43, 43, 42,  1, 39, 52, 63,\n",
       "         1, 44, 59, 56, 58, 46, 43, 56,  6,  1, 46, 43, 39, 56,  1, 51, 43,  1,\n",
       "        57, 54, 43, 39, 49,  8,  0,  0, 13, 50, 50, 10,  0, 31, 54, 43, 39, 49,\n",
       "         6,  1, 57, 54, 43, 39, 49,  8,  0,  0, 18, 47, 56, 57, 58,  1, 15, 47,\n",
       "        58, 47, 64, 43, 52, 10,  0, 37, 53, 59])"
      ]
     },
     "execution_count": 19,
     "metadata": {},
     "output_type": "execute_result"
    }
   ],
   "source": [
    "data[:100]"
   ]
  },
  {
   "cell_type": "code",
   "execution_count": 22,
   "id": "14b2d7a4",
   "metadata": {},
   "outputs": [
    {
     "data": {
      "text/plain": [
       "(torch.Tensor, torch.int64, torch.Size([1115394]))"
      ]
     },
     "execution_count": 22,
     "metadata": {},
     "output_type": "execute_result"
    }
   ],
   "source": [
    "type(data), data.dtype, data.shape"
   ]
  },
  {
   "cell_type": "code",
   "execution_count": 28,
   "id": "ca7f7af0",
   "metadata": {},
   "outputs": [],
   "source": [
    "n=int(0.9*len(data))\n",
    "train_data=data[:n]\n",
    "val_data=data[n:]"
   ]
  },
  {
   "cell_type": "code",
   "execution_count": 29,
   "id": "856f5590",
   "metadata": {},
   "outputs": [
    {
     "name": "stdout",
     "output_type": "stream",
     "text": [
      "torch.Size([1003854])\n"
     ]
    }
   ],
   "source": [
    "print(train_data.shape)"
   ]
  },
  {
   "cell_type": "code",
   "execution_count": 45,
   "id": "99c2c41d",
   "metadata": {
    "scrolled": true
   },
   "outputs": [
    {
     "name": "stdout",
     "output_type": "stream",
     "text": [
      "torch.Size([4, 8])\n",
      "tensor([[ 1, 61, 56, 43, 58, 41, 46, 43],\n",
      "        [10,  0, 32, 46, 43, 56, 43,  1],\n",
      "        [20, 27, 30, 32, 17, 26, 31, 21],\n",
      "        [57, 47, 50, 60, 43, 56,  1, 57]])\n",
      "tensor([243712, 149213, 990673, 557150])\n",
      "When input is [1] the target is 61\n",
      "When input is [1, 61] the target is 56\n",
      "When input is [1, 61, 56] the target is 43\n",
      "When input is [1, 61, 56, 43] the target is 58\n",
      "When input is [1, 61, 56, 43, 58] the target is 41\n",
      "When input is [1, 61, 56, 43, 58, 41] the target is 46\n",
      "When input is [1, 61, 56, 43, 58, 41, 46] the target is 43\n",
      "When input is [1, 61, 56, 43, 58, 41, 46, 43] the target is 42\n",
      "When input is [10] the target is 0\n",
      "When input is [10, 0] the target is 32\n",
      "When input is [10, 0, 32] the target is 46\n",
      "When input is [10, 0, 32, 46] the target is 43\n",
      "When input is [10, 0, 32, 46, 43] the target is 56\n",
      "When input is [10, 0, 32, 46, 43, 56] the target is 43\n",
      "When input is [10, 0, 32, 46, 43, 56, 43] the target is 1\n",
      "When input is [10, 0, 32, 46, 43, 56, 43, 1] the target is 61\n",
      "When input is [20] the target is 27\n",
      "When input is [20, 27] the target is 30\n",
      "When input is [20, 27, 30] the target is 32\n",
      "When input is [20, 27, 30, 32] the target is 17\n",
      "When input is [20, 27, 30, 32, 17] the target is 26\n",
      "When input is [20, 27, 30, 32, 17, 26] the target is 31\n",
      "When input is [20, 27, 30, 32, 17, 26, 31] the target is 21\n",
      "When input is [20, 27, 30, 32, 17, 26, 31, 21] the target is 27\n",
      "When input is [57] the target is 47\n",
      "When input is [57, 47] the target is 50\n",
      "When input is [57, 47, 50] the target is 60\n",
      "When input is [57, 47, 50, 60] the target is 43\n",
      "When input is [57, 47, 50, 60, 43] the target is 56\n",
      "When input is [57, 47, 50, 60, 43, 56] the target is 1\n",
      "When input is [57, 47, 50, 60, 43, 56, 1] the target is 57\n",
      "When input is [57, 47, 50, 60, 43, 56, 1, 57] the target is 53\n"
     ]
    }
   ],
   "source": [
    "torch.manual_seed=1337\n",
    "batch_size=4\n",
    "block_size=8\n",
    "\n",
    "def get_batch(split):\n",
    "    data=train_data if split=='train' else val_data\n",
    "    ix=torch.randint(len(data)-block_size, (batch_size,))\n",
    "    x=torch.stack([data[i:i+block_size] for i in ix])\n",
    "    print(x.shape)\n",
    "    print(x)\n",
    "    print(ix)\n",
    "    y=torch.stack([data[i+1:i+1+block_size] for i in ix])\n",
    "    return x, y\n",
    "    \n",
    "xb, yb=get_batch('train')\n",
    "\n",
    "for b in range(batch_size):\n",
    "    for t in range(block_size):\n",
    "        context=xb[b,:t+1]\n",
    "        target=yb[b,t]\n",
    "        print(f\"When input is {context.tolist()} the target is {target}\")"
   ]
  },
  {
   "cell_type": "code",
   "execution_count": 49,
   "id": "116cbbf4",
   "metadata": {},
   "outputs": [
    {
     "data": {
      "text/plain": [
       "tensor([[[-0.0860,  0.5680, -0.1164,  ...,  0.7800, -0.7668, -0.1259],\n",
       "         [-0.2464, -0.1141, -0.9482,  ...,  1.3305, -1.3975,  0.6340],\n",
       "         [ 0.1722,  1.2483, -0.2914,  ..., -0.5909,  0.6979, -1.3956],\n",
       "         ...,\n",
       "         [-0.4518,  0.0034, -1.6165,  ...,  0.6285, -0.9934, -0.4570],\n",
       "         [-0.7593, -1.0071,  0.3124,  ...,  0.0314, -0.3278,  0.2390],\n",
       "         [-0.3086, -0.0265, -0.0835,  ...,  0.2177,  0.6768, -1.7555]],\n",
       "\n",
       "        [[-0.1271, -0.4112, -1.3993,  ...,  0.5765, -1.4168, -0.1157],\n",
       "         [-0.8526,  1.0479,  0.9910,  ...,  0.9044,  1.0173,  1.2960],\n",
       "         [-0.6925,  1.3320, -0.6304,  ...,  1.4915,  0.3075,  0.6991],\n",
       "         ...,\n",
       "         [ 0.1722,  1.2483, -0.2914,  ..., -0.5909,  0.6979, -1.3956],\n",
       "         [-0.3086, -0.0265, -0.0835,  ...,  0.2177,  0.6768, -1.7555],\n",
       "         [-0.0860,  0.5680, -0.1164,  ...,  0.7800, -0.7668, -0.1259]],\n",
       "\n",
       "        [[ 0.6177, -1.9278, -0.4505,  ...,  0.3308, -0.3623, -0.8878],\n",
       "         [ 0.0205, -0.0395, -0.4427,  ...,  1.1137, -0.0182, -1.5932],\n",
       "         [-0.3933, -0.1727,  0.1174,  ...,  0.9717, -0.1265,  0.7745],\n",
       "         ...,\n",
       "         [-1.2508,  0.6415, -1.9798,  ...,  1.4676,  0.7435, -0.9304],\n",
       "         [-1.2481,  0.2365, -0.8307,  ...,  2.3548,  1.2565,  0.9285],\n",
       "         [-1.2349,  0.4830, -0.1071,  ...,  1.2333,  1.1149,  1.2731]],\n",
       "\n",
       "        [[-0.2550,  1.2951,  0.5645,  ..., -1.4094,  0.2343,  0.1010],\n",
       "         [ 0.7267,  0.5421, -0.3934,  ...,  0.1854,  1.3110,  0.4800],\n",
       "         [ 1.6660, -1.0592,  1.2188,  ..., -2.5299,  0.0965, -0.0187],\n",
       "         ...,\n",
       "         [ 0.1722,  1.2483, -0.2914,  ..., -0.5909,  0.6979, -1.3956],\n",
       "         [-0.0860,  0.5680, -0.1164,  ...,  0.7800, -0.7668, -0.1259],\n",
       "         [-0.2550,  1.2951,  0.5645,  ..., -1.4094,  0.2343,  0.1010]]],\n",
       "       grad_fn=<EmbeddingBackward0>)"
      ]
     },
     "execution_count": 49,
     "metadata": {},
     "output_type": "execute_result"
    }
   ],
   "source": [
    "import torch.nn as nn\n",
    "\n",
    "class BigramModel(nn.Module):\n",
    "    def __init__(self, vocab_size):\n",
    "        super().__init__()\n",
    "        self.token_embedding_table=nn.Embedding(vocab_size,vocab_size)\n",
    "        \n",
    "    def forward(self, idx, targets):\n",
    "        logits=self.token_embedding_table(idx)\n",
    "        \n",
    "        return logits\n",
    "    \n",
    "m=BigramModel(vocab_size)\n",
    "m(xb,yb)"
   ]
  }
 ],
 "metadata": {
  "kernelspec": {
   "display_name": "Python 3 (ipykernel)",
   "language": "python",
   "name": "python3"
  },
  "language_info": {
   "codemirror_mode": {
    "name": "ipython",
    "version": 3
   },
   "file_extension": ".py",
   "mimetype": "text/x-python",
   "name": "python",
   "nbconvert_exporter": "python",
   "pygments_lexer": "ipython3",
   "version": "3.9.13"
  }
 },
 "nbformat": 4,
 "nbformat_minor": 5
}
