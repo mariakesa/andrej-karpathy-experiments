{
 "cells": [
  {
   "cell_type": "code",
   "execution_count": 7,
   "metadata": {},
   "outputs": [
    {
     "name": "stdout",
     "output_type": "stream",
     "text": [
      "Significant p-values under BH procedure:\n",
      "Index 0, p-value: 0.0011\n",
      "Index 1, p-value: 0.0017\n",
      "Index 2, p-value: 0.00205\n",
      "Index 3, p-value: 0.00325\n",
      "Index 4, p-value: 0.00345\n"
     ]
    }
   ],
   "source": [
    "# List of p-values\n",
    "tests = [0.00502, 0.00345, 0.00205, 0.00325, 0.00110, 0.00170]\n",
    "tests = sorted(tests)  # Sort p-values in ascending order\n",
    "alpha = 0.005  # Desired FDR level\n",
    "m = len(tests)  # Total number of tests\n",
    "\n",
    "# Apply the Benjamini-Hochberg procedure\n",
    "significant_index = -1  # To track the largest index meeting the condition\n",
    "for i in range(1, m + 1):  # Note: BH uses 1-based index\n",
    "    if tests[i - 1] <= (i / m) * alpha:\n",
    "        significant_index = i  # Update to the current index\n",
    "\n",
    "# Print the significant p-values and their indices\n",
    "if significant_index != -1:\n",
    "    print(f\"Significant p-values under BH procedure:\")\n",
    "    for j in range(significant_index):\n",
    "        print(f\"Index {j}, p-value: {tests[j]}\")\n",
    "else:\n",
    "    print(\"No tests are significant under the BH procedure.\")\n"
   ]
  },
  {
   "cell_type": "code",
   "execution_count": 8,
   "metadata": {},
   "outputs": [
    {
     "data": {
      "text/plain": [
       "np.float64(88.20000000000002)"
      ]
     },
     "execution_count": 8,
     "metadata": {},
     "output_type": "execute_result"
    }
   ],
   "source": [
    "def welch_satterthwaite_df(n1, s1, n2, s2):\n",
    "    \"\"\"\n",
    "    Calculate the degrees of freedom using the Welch-Satterthwaite equation.\n",
    "\n",
    "    Parameters:\n",
    "    - n1 (int): Sample size of group 1\n",
    "    - s1 (float): Sample standard deviation of group 1\n",
    "    - n2 (int): Sample size of group 2\n",
    "    - s2 (float): Sample standard deviation of group 2\n",
    "\n",
    "    Returns:\n",
    "    - df (float): Approximated degrees of freedom\n",
    "    \"\"\"\n",
    "    # Calculate the squared standard deviations\n",
    "    s1_sq = s1 ** 2\n",
    "    s2_sq = s2 ** 2\n",
    "\n",
    "    # Calculate the numerator of the df equation\n",
    "    numerator = (s1_sq / n1 + s2_sq / n2) ** 2\n",
    "\n",
    "    # Calculate the denominator of the df equation\n",
    "    denominator = ((s1_sq / n1) ** 2) / (n1 - 1) + ((s2_sq / n2) ** 2) / (n2 - 1)\n",
    "\n",
    "    # Calculate degrees of freedom\n",
    "    df = numerator / denominator\n",
    "\n",
    "    return df\n",
    "import numpy as np\n",
    "n1=50\n",
    "n2=50\n",
    "s1=np.sqrt(0.1)\n",
    "s2=np.sqrt(0.2)\n",
    "welch_satterthwaite_df(n1, s1, n2, s2)"
   ]
  },
  {
   "cell_type": "code",
   "execution_count": 13,
   "metadata": {},
   "outputs": [],
   "source": [
    "test_statistic=(6.2-6)/np.sqrt(0.1/50+0.2/50)\n",
    "df=int(welch_satterthwaite_df(n1, s1, n2, s2))\n",
    "import scipy.stats as stats\n",
    "p_value = 2 * stats.t.sf(np.abs(test_statistic), df)"
   ]
  },
  {
   "cell_type": "code",
   "execution_count": 10,
   "metadata": {},
   "outputs": [
    {
     "data": {
      "text/plain": [
       "np.float64(0.011472471817021516)"
      ]
     },
     "execution_count": 10,
     "metadata": {},
     "output_type": "execute_result"
    }
   ],
   "source": [
    "p_value"
   ]
  },
  {
   "cell_type": "code",
   "execution_count": 14,
   "metadata": {},
   "outputs": [
    {
     "name": "stdout",
     "output_type": "stream",
     "text": [
      "Test Statistic: 2.5820\n",
      "P-value: 0.0057\n"
     ]
    }
   ],
   "source": [
    "import numpy as np\n",
    "from scipy import stats\n",
    "\n",
    "# Given values\n",
    "mean1 = 6.2       # Sample mean of group 1\n",
    "mean2 = 6.0       # Sample mean of group 2\n",
    "var1 = 0.1        # Variance of group 1\n",
    "var2 = 0.2        # Variance of group 2\n",
    "n1 = 50           # Sample size of group 1\n",
    "n2 = 50           # Sample size of group 2\n",
    "df = 88.2         # Degrees of freedom from Welch-Satterthwaite equation\n",
    "\n",
    "# Calculate the standard error\n",
    "standard_error = np.sqrt(var1 / n1 + var2 / n2)\n",
    "\n",
    "# Calculate the test statistic\n",
    "test_statistic = (mean1 - mean2) / standard_error\n",
    "print(f\"Test Statistic: {test_statistic:.4f}\")\n",
    "\n",
    "# Calculate the one-tailed p-value for right-tailed test\n",
    "p_value = stats.t.sf(test_statistic, df)\n",
    "print(f\"P-value: {p_value:.4f}\")\n"
   ]
  },
  {
   "cell_type": "code",
   "execution_count": 16,
   "metadata": {},
   "outputs": [
    {
     "data": {
      "text/plain": [
       "1.7000000000000006"
      ]
     },
     "execution_count": 16,
     "metadata": {},
     "output_type": "execute_result"
    }
   ],
   "source": [
    "test_Statistic=10*(1/0.83-1)/(1/0.83)\n",
    "test_Statistic"
   ]
  }
 ],
 "metadata": {
  "kernelspec": {
   "display_name": ".venv",
   "language": "python",
   "name": "python3"
  },
  "language_info": {
   "codemirror_mode": {
    "name": "ipython",
    "version": 3
   },
   "file_extension": ".py",
   "mimetype": "text/x-python",
   "name": "python",
   "nbconvert_exporter": "python",
   "pygments_lexer": "ipython3",
   "version": "3.12.3"
  }
 },
 "nbformat": 4,
 "nbformat_minor": 2
}
