{
 "cells": [
  {
   "cell_type": "code",
   "execution_count": 2,
   "metadata": {},
   "outputs": [],
   "source": [
    "with open(\"shakespeare.txt\", encoding='utf-8') as f:\n",
    "    text=f.read()"
   ]
  },
  {
   "cell_type": "code",
   "execution_count": 3,
   "metadata": {},
   "outputs": [
    {
     "data": {
      "text/plain": [
       "'First Citi'"
      ]
     },
     "execution_count": 3,
     "metadata": {},
     "output_type": "execute_result"
    }
   ],
   "source": [
    "text[:10]"
   ]
  },
  {
   "cell_type": "code",
   "execution_count": 12,
   "metadata": {},
   "outputs": [
    {
     "data": {
      "text/plain": [
       "'hello how are you'"
      ]
     },
     "execution_count": 12,
     "metadata": {},
     "output_type": "execute_result"
    }
   ],
   "source": [
    "chars=sorted(list(set(text)))\n",
    "c2i={c:i for i,c in enumerate(chars)}\n",
    "i2c={i:c for i,c in enumerate(chars)}\n",
    "encoder = lambda string: [c2i[c] for c in string]\n",
    "decoder = lambda lst: ''.join([i2c[i] for i in lst])\n",
    "\n",
    "encoder(\"hello\")\n",
    "decoder(encoder(\"hello how are you\"))"
   ]
  },
  {
   "cell_type": "code",
   "execution_count": 13,
   "metadata": {},
   "outputs": [
    {
     "data": {
      "text/plain": [
       "(torch.Size([1115394]), torch.int64)"
      ]
     },
     "execution_count": 13,
     "metadata": {},
     "output_type": "execute_result"
    }
   ],
   "source": [
    "import torch\n",
    "\n",
    "data=torch.tensor(encoder(text))\n",
    "data.shape, data.dtype"
   ]
  },
  {
   "cell_type": "code",
   "execution_count": 14,
   "metadata": {},
   "outputs": [],
   "source": [
    "n = int(0.9*len(data))\n",
    "train_data, valid_data = data[:n], data[n:]"
   ]
  },
  {
   "cell_type": "code",
   "execution_count": 15,
   "metadata": {},
   "outputs": [
    {
     "data": {
      "text/plain": [
       "tensor([18, 47, 56, 57, 58,  1, 15, 47, 58])"
      ]
     },
     "execution_count": 15,
     "metadata": {},
     "output_type": "execute_result"
    }
   ],
   "source": [
    "block_size=8\n",
    "\n",
    "train_data[:block_size+1]"
   ]
  },
  {
   "cell_type": "code",
   "execution_count": 16,
   "metadata": {},
   "outputs": [
    {
     "name": "stdout",
     "output_type": "stream",
     "text": [
      "When input is tensor([18]) then target is 47\n",
      "When input is tensor([18, 47]) then target is 56\n",
      "When input is tensor([18, 47, 56]) then target is 57\n",
      "When input is tensor([18, 47, 56, 57]) then target is 58\n",
      "When input is tensor([18, 47, 56, 57, 58]) then target is 1\n",
      "When input is tensor([18, 47, 56, 57, 58,  1]) then target is 15\n",
      "When input is tensor([18, 47, 56, 57, 58,  1, 15]) then target is 47\n",
      "When input is tensor([18, 47, 56, 57, 58,  1, 15, 47]) then target is 58\n"
     ]
    }
   ],
   "source": [
    "x=train_data[:block_size]\n",
    "y=train_data[1:block_size+1]\n",
    "for t in range(block_size):\n",
    "    context=x[:t+1]\n",
    "    target=y[t]\n",
    "    print(f\"When input is {context} then target is {target}\")"
   ]
  },
  {
   "cell_type": "code",
   "execution_count": 19,
   "metadata": {},
   "outputs": [
    {
     "data": {
      "text/plain": [
       "20.0"
      ]
     },
     "execution_count": 19,
     "metadata": {},
     "output_type": "execute_result"
    }
   ],
   "source": [
    "20000*0.1/100"
   ]
  },
  {
   "cell_type": "code",
   "execution_count": 52,
   "metadata": {},
   "outputs": [
    {
     "name": "stdout",
     "output_type": "stream",
     "text": [
      "tensor([[10,  0, 20, 47, 43,  1, 58, 53],\n",
      "        [37,  1, 13, 26, 26, 17, 10,  0],\n",
      "        [47, 58, 47, 64, 43, 52, 10,  0],\n",
      "        [53, 44,  1, 39, 42, 51, 47, 56]])\n",
      "tensor([[43, 10,  0, 20, 47, 43,  1, 58],\n",
      "        [16, 37,  1, 13, 26, 26, 17, 10],\n",
      "        [15, 47, 58, 47, 64, 43, 52, 10],\n",
      "        [ 1, 53, 44,  1, 39, 42, 51, 47]])\n"
     ]
    },
    {
     "data": {
      "text/plain": [
       "(tensor([[43, 10,  0, 20, 47, 43,  1, 58],\n",
       "         [16, 37,  1, 13, 26, 26, 17, 10],\n",
       "         [15, 47, 58, 47, 64, 43, 52, 10],\n",
       "         [ 1, 53, 44,  1, 39, 42, 51, 47]]),\n",
       " tensor([[10,  0, 20, 47, 43,  1, 58, 53],\n",
       "         [37,  1, 13, 26, 26, 17, 10,  0],\n",
       "         [47, 58, 47, 64, 43, 52, 10,  0],\n",
       "         [53, 44,  1, 39, 42, 51, 47, 56]]))"
      ]
     },
     "execution_count": 52,
     "metadata": {},
     "output_type": "execute_result"
    }
   ],
   "source": [
    "T=8\n",
    "batch_size=4\n",
    "\n",
    "def get_batch(batch_type):\n",
    "    if batch_type==\"train\":\n",
    "        data=train_data\n",
    "    elif batch_type==\"val\":\n",
    "        data=valid_data\n",
    "    start_idx = torch.randint(0, data.size(0) - T - 1, (batch_size,))\n",
    "    X=torch.stack([data[start_idx[i]:start_idx[i]+T] for i in range(batch_size)])\n",
    "    y=torch.stack([data[start_idx[i]+1:start_idx[i]+T+1] for i in range(batch_size)])\n",
    "    print(y)\n",
    "    print(X)\n",
    "    return X, y\n",
    "\n",
    "get_batch(\"train\")\n",
    "\n",
    "    "
   ]
  },
  {
   "cell_type": "code",
   "execution_count": 53,
   "metadata": {},
   "outputs": [],
   "source": [
    "def estimate_loss():\n",
    "    n=20\n",
    "    losses=[]\n",
    "    for i in range(n):\n",
    "        X,y=get_batch(\"train\")\n",
    "        X_val, y_val=get_batch(\"val\")\n",
    "        #processed_data, loss= model(X)\n",
    "    return torch.mean(losses)\n",
    "\n",
    "    "
   ]
  },
  {
   "cell_type": "code",
   "execution_count": 51,
   "metadata": {},
   "outputs": [
    {
     "data": {
      "text/plain": [
       "128"
      ]
     },
     "execution_count": 51,
     "metadata": {},
     "output_type": "execute_result"
    }
   ],
   "source": [
    "my_str=\"My favorite activity is coding, my framework for analyzing the world is Statistics. When I get an algorithm working, it's magic!\"\n",
    "len(my_str)"
   ]
  }
 ],
 "metadata": {
  "kernelspec": {
   "display_name": ".venv",
   "language": "python",
   "name": "python3"
  },
  "language_info": {
   "codemirror_mode": {
    "name": "ipython",
    "version": 3
   },
   "file_extension": ".py",
   "mimetype": "text/x-python",
   "name": "python",
   "nbconvert_exporter": "python",
   "pygments_lexer": "ipython3",
   "version": "3.12.3"
  }
 },
 "nbformat": 4,
 "nbformat_minor": 2
}
