{
 "cells": [
  {
   "cell_type": "code",
   "execution_count": 1,
   "metadata": {},
   "outputs": [],
   "source": [
    "import numpy as np\n",
    "import torch"
   ]
  },
  {
   "cell_type": "code",
   "execution_count": 2,
   "metadata": {},
   "outputs": [],
   "source": [
    "data=open('/home/maria/andrej-karpathy-experiments/shakespeare.txt','r').read()"
   ]
  },
  {
   "cell_type": "code",
   "execution_count": 4,
   "metadata": {},
   "outputs": [
    {
     "data": {
      "text/plain": [
       "'First Citizen:\\nBefore we proceed any further, hear me speak.\\n\\nAll:\\nSpeak, speak.\\n\\nFirst Citizen:\\nYou'"
      ]
     },
     "execution_count": 4,
     "metadata": {},
     "output_type": "execute_result"
    }
   ],
   "source": [
    "data[:100]"
   ]
  },
  {
   "cell_type": "code",
   "execution_count": 13,
   "metadata": {},
   "outputs": [
    {
     "name": "stdout",
     "output_type": "stream",
     "text": [
      "209892\n"
     ]
    },
    {
     "data": {
      "text/plain": [
       "23642"
      ]
     },
     "execution_count": 13,
     "metadata": {},
     "output_type": "execute_result"
    }
   ],
   "source": [
    "words = data.lower().replace('\\n', ' ').strip().split(' ')\n",
    "print(len(words))\n",
    "len(set(words))"
   ]
  },
  {
   "cell_type": "code",
   "execution_count": 14,
   "metadata": {},
   "outputs": [
    {
     "name": "stdout",
     "output_type": "stream",
     "text": [
      ": 7241\n",
      "the: 6279\n",
      "and: 5479\n",
      "to: 4723\n",
      "i: 4403\n",
      "of: 3721\n",
      "my: 3114\n",
      "a: 2975\n",
      "you: 2449\n",
      "that: 2427\n",
      "in: 2312\n",
      "is: 1963\n",
      "for: 1835\n",
      "with: 1800\n",
      "not: 1741\n",
      "your: 1680\n",
      "be: 1597\n",
      "his: 1521\n",
      "he: 1411\n",
      "as: 1404\n",
      "but: 1402\n",
      "have: 1386\n",
      "it: 1365\n",
      "this: 1345\n",
      "thou: 1297\n",
      "me: 1118\n",
      "thy: 1059\n",
      "will: 948\n",
      "what: 936\n",
      "so: 897\n",
      "by: 872\n",
      "we: 840\n",
      "shall: 808\n",
      "if: 790\n",
      "our: 786\n",
      "all: 746\n",
      "are: 738\n",
      "him: 715\n",
      "king: 686\n",
      "do: 685\n",
      "no: 682\n",
      "her: 654\n",
      "from: 621\n",
      "good: 600\n",
      "on: 572\n",
      "or: 563\n",
      "at: 550\n",
      "which: 542\n",
      "would: 517\n",
      "they: 515\n",
      "was: 497\n",
      "how: 482\n",
      "than: 478\n",
      "their: 476\n",
      "more: 459\n",
      "she: 457\n",
      "hath: 445\n",
      "let: 437\n",
      "am: 432\n",
      "i'll: 425\n",
      "thee: 422\n",
      "when: 417\n",
      "duke: 415\n",
      "now: 398\n",
      "then: 395\n",
      "were: 391\n",
      "make: 387\n",
      "may: 374\n",
      "upon: 370\n",
      "one: 365\n",
      "you,: 363\n",
      "an: 361\n",
      "like: 360\n",
      "must: 358\n",
      "should: 354\n",
      "sir,: 332\n",
      "had: 331\n",
      "here: 331\n",
      "'tis: 322\n",
      "yet: 320\n",
      "them: 318\n",
      "come: 317\n",
      "first: 309\n",
      "where: 307\n",
      "some: 306\n",
      "did: 305\n",
      "richard: 289\n",
      "know: 288\n",
      "take: 288\n",
      "give: 286\n",
      "say: 284\n",
      "me,: 284\n",
      "these: 283\n",
      "such: 280\n",
      "go: 272\n",
      "there: 270\n",
      "o: 268\n",
      "us: 262\n",
      "o,: 261\n",
      "who: 260\n",
      "see: 255\n",
      "can: 253\n",
      "queen: 252\n",
      "henry: 250\n",
      "love: 247\n",
      "tell: 246\n",
      "most: 244\n",
      "lord: 236\n",
      "well: 235\n",
      "nor: 232\n",
      "gloucester:: 229\n",
      "come,: 222\n",
      "lord,: 220\n",
      "vincentio:: 216\n",
      "why,: 215\n",
      "out: 213\n",
      "now,: 211\n",
      "too: 209\n",
      "made: 204\n",
      "mine: 203\n",
      "never: 202\n",
      "and,: 201\n",
      "up: 196\n",
      "hear: 193\n",
      "doth: 193\n",
      "art: 191\n",
      "man: 191\n",
      "york:: 191\n",
      "any: 183\n",
      "being: 183\n",
      "speak: 181\n",
      "time: 181\n",
      "edward: 181\n",
      "much: 180\n",
      "thee,: 179\n",
      "think: 178\n",
      "cannot: 178\n",
      "very: 176\n",
      "lady: 173\n",
      "noble: 171\n",
      "him,: 170\n",
      "ay,: 169\n",
      "second: 167\n",
      "romeo:: 165\n",
      "been: 164\n",
      "menenius:: 162\n",
      "before: 160\n",
      "against: 160\n",
      "petruchio:: 158\n",
      "no,: 157\n",
      "god: 157\n",
      "though: 155\n",
      "him.: 154\n",
      "sweet: 152\n",
      "fair: 152\n",
      "coriolanus:: 151\n",
      "great: 150\n",
      "well,: 149\n",
      "poor: 148\n",
      "you.: 148\n",
      "hast: 148\n",
      "it.: 146\n",
      "till: 144\n",
      "thus: 143\n",
      "look: 143\n",
      "call: 140\n",
      "both: 140\n",
      "nay,: 139\n",
      "what,: 139\n",
      "iii:: 138\n",
      "own: 137\n",
      "whose: 137\n",
      "why: 136\n",
      "many: 136\n",
      "even: 135\n",
      "old: 132\n",
      "it,: 129\n",
      "leave: 129\n",
      "isabella:: 129\n",
      "not,: 128\n",
      "so,: 127\n",
      "me.: 127\n",
      "leontes:: 127\n",
      "those: 126\n",
      "juliet:: 126\n",
      "unto: 125\n",
      "then,: 121\n",
      "father: 121\n",
      "pray: 120\n",
      "ever: 120\n",
      "heart: 120\n",
      "bear: 119\n",
      "sicinius:: 117\n",
      "could: 116\n",
      "men: 115\n",
      "comes: 115\n",
      "stand: 114\n",
      "put: 114\n",
      "o': 111\n",
      "lucio:: 111\n"
     ]
    }
   ],
   "source": [
    "from collections import Counter\n",
    "\n",
    "# Count the frequency of each word\n",
    "word_counts = Counter(words)\n",
    "\n",
    "# Get the 20 most common words and their counts\n",
    "most_common_words = word_counts.most_common(200)\n",
    "\n",
    "# Print the results\n",
    "for word, count in most_common_words:\n",
    "    print(f\"{word}: {count}\")"
   ]
  },
  {
   "cell_type": "code",
   "execution_count": 18,
   "metadata": {},
   "outputs": [
    {
     "data": {
      "image/png": "[encoded data removed]",
      "text/plain": [
       "<Figure size 1000x600 with 1 Axes>"
      ]
     },
     "metadata": {},
     "output_type": "display_data"
    }
   ],
   "source": [
    "import matplotlib.pyplot as plt\n",
    "\n",
    "# Get all word counts\n",
    "word_frequencies = list(word_counts.values())\n",
    "\n",
    "# Create the histogram\n",
    "plt.figure(figsize=(10, 6))\n",
    "plt.hist(word_frequencies, bins=50, edgecolor='black')\n",
    "plt.xlabel(\"Word Frequency\")\n",
    "plt.ylabel(\"Number of Words\")\n",
    "plt.title(\"Histogram of Word Counts\")\n",
    "plt.yscale('log')  # Log scale helps to see the distribution better for large ranges\n",
    "plt.show()\n"
   ]
  },
  {
   "cell_type": "code",
   "execution_count": 20,
   "metadata": {},
   "outputs": [
    {
     "name": "stdout",
     "output_type": "stream",
     "text": [
      "tensor([[ 4323, 13181,  2109, 18587, 10695, 13671],\n",
      "        [13181,  2109, 15592, 10695, 13671, 18073],\n",
      "        [ 2109, 15592, 18587, 13671, 18073,   900],\n",
      "        ...,\n",
      "        [12003, 20076, 10910,  2646,  3919, 10726],\n",
      "        [20076, 10910,  1131,  3919, 10726, 10385],\n",
      "        [10910,  1131,  2646, 10726, 10385, 17581]])\n"
     ]
    }
   ],
   "source": [
    "encoder={word:ind for ind,word in enumerate(set(words))}\n",
    "decoder={ind:word for ind,word in enumerate(set(words))}\n",
    "\n",
    "def make_cbow_data(words):\n",
    "    train_data=words[:int(0.8*len(words))]\n",
    "    val_data=words[int(0.8*len(words)):]\n",
    "    window=3\n",
    "\n",
    "    start_ind=0+window\n",
    "    end_ind=len(train_data)-window\n",
    "\n",
    "    X=[]\n",
    "    Y=[]\n",
    "    for ind in range(start_ind,end_ind):\n",
    "        context=[train_data[ind-3],train_data[ind-2],train_data[ind-1],train_data[ind+1],train_data[ind+2],train_data[ind+3]]\n",
    "        target=train_data[ind]\n",
    "        X.append([encoder[i] for i in context])\n",
    "        Y.append(encoder[target])\n",
    "    X=torch.tensor(X)\n",
    "    Y=torch.tensor(Y)\n",
    "    return X,Y\n",
    "\n",
    "X, Y = make_cbow_data(words)\n",
    "print(X)\n",
    "\n",
    "        "
   ]
  }
 ],
 "metadata": {
  "kernelspec": {
   "display_name": ".venv",
   "language": "python",
   "name": "python3"
  },
  "language_info": {
   "codemirror_mode": {
    "name": "ipython",
    "version": 3
   },
   "file_extension": ".py",
   "mimetype": "text/x-python",
   "name": "python",
   "nbconvert_exporter": "python",
   "pygments_lexer": "ipython3",
   "version": "3.12.3"
  }
 },
 "nbformat": 4,
 "nbformat_minor": 2
}
