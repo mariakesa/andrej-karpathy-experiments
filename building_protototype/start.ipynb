{
 "cells": [
  {
   "cell_type": "code",
   "execution_count": 2,
   "metadata": {},
   "outputs": [
    {
     "name": "stderr",
     "output_type": "stream",
     "text": [
      "/home/maria/andrej-karpathy-experiments/.venv/lib/python3.12/site-packages/tqdm/auto.py:21: TqdmWarning: IProgress not found. Please update jupyter and ipywidgets. See https://ipywidgets.readthedocs.io/en/stable/user_install.html\n",
      "  from .autonotebook import tqdm as notebook_tqdm\n",
      "Error while downloading from https://cdn-lfs.huggingface.co/repos/d6/5d/d65df011a88b2d5faf385c7d3a3277d972f8247ec3d165258769addaa4e52bc2/ec7e39e52347bc61c1d649cd1ba879d9970ad488cec00a4d844b41c4a3c1be98?response-content-disposition=inline%3B+filename*%3DUTF-8%27%27corpus.jsonl%3B+filename%3D%22corpus.jsonl%22%3B&Expires=1727523222&Policy=eyJTdGF0ZW1lbnQiOlt7IkNvbmRpdGlvbiI6eyJEYXRlTGVzc1RoYW4iOnsiQVdTOkVwb2NoVGltZSI6MTcyNzUyMzIyMn19LCJSZXNvdXJjZSI6Imh0dHBzOi8vY2RuLWxmcy5odWdnaW5nZmFjZS5jby9yZXBvcy9kNi81ZC9kNjVkZjAxMWE4OGIyZDVmYWYzODVjN2QzYTMyNzdkOTcyZjgyNDdlYzNkMTY1MjU4NzY5YWRkYWE0ZTUyYmMyL2VjN2UzOWU1MjM0N2JjNjFjMWQ2NDljZDFiYTg3OWQ5OTcwYWQ0ODhjZWMwMGE0ZDg0NGI0MWM0YTNjMWJlOTg%7EcmVzcG9uc2UtY29udGVudC1kaXNwb3NpdGlvbj0qIn1dfQ__&Signature=b3yrlz8OX3hRmRV1om3C77xa0RS-GpBURFe6CJljwdxsAz8Xob%7Ego75iwM5o46EoW48hmcZUVI-4QB7VBnuNCdqmSktmzuLpDTBAp4YyhA6XOwR0sSNNEtLaYKmJN6jZsNUejd2f1ay1kQh4FwrbzHaTQf%7EFMcjsWGLxYdetjQyps2FOkkg5LpBRnpClcs47EA3MfFAAo-omqwvUrf94YVLuXv47R1s2zHjEzDd72UnJTfXV2tPRts8YNe%7EVxTvTaaZfmBnxDNmxmlLYf3kwzXW598qBBflNEZ86C1Uep65-4gIX6LjNU%7EcEd79H0DBYOEvuZpjl379PR9Vv4eVGcQ__&Key-Pair-Id=K3ESJI6DHPFC7: HTTPSConnectionPool(host='cdn-lfs.huggingface.co', port=443): Read timed out.\n",
      "Trying to resume download...\n",
      "Generating corpus split: 100%|██████████| 229122/229122 [00:39<00:00, 5738.23 examples/s] "
     ]
    },
    {
     "name": "stdout",
     "output_type": "stream",
     "text": [
      "Fences Regulations 2018 (SA)\n"
     ]
    },
    {
     "name": "stderr",
     "output_type": "stream",
     "text": [
      "\n"
     ]
    }
   ],
   "source": [
    "from datasets import load_dataset\n",
    "\n",
    "corpus = load_dataset('umarbutler/open-australian-legal-corpus', split='corpus', keep_in_memory=False) # Set `keep_in_memory` to `True` if you wish to load the entire corpus into memory.\n",
    "print(corpus[0]['citation'])"
   ]
  }
 ],
 "metadata": {
  "kernelspec": {
   "display_name": ".venv",
   "language": "python",
   "name": "python3"
  },
  "language_info": {
   "codemirror_mode": {
    "name": "ipython",
    "version": 3
   },
   "file_extension": ".py",
   "mimetype": "text/x-python",
   "name": "python",
   "nbconvert_exporter": "python",
   "pygments_lexer": "ipython3",
   "version": "3.12.3"
  }
 },
 "nbformat": 4,
 "nbformat_minor": 2
}
