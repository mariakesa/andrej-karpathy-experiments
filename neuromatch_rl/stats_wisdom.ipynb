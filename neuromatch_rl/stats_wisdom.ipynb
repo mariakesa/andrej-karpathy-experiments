{
 "cells": [
  {
   "cell_type": "code",
   "execution_count": 4,
   "metadata": {},
   "outputs": [
    {
     "name": "stdout",
     "output_type": "stream",
     "text": [
      "[2.]\n",
      "2.0\n"
     ]
    }
   ],
   "source": [
    "import numpy as np\n",
    "#Vectorized implementation of mean centering\n",
    "y=np.array([1,2,3])\n",
    "J_n=np.ones((3,1))\n",
    "beta_hat=(J_n.T@J_n)**-1@J_n.T@y\n",
    "print(beta_hat)\n",
    "print(np.mean(y))"
   ]
  }
 ],
 "metadata": {
  "kernelspec": {
   "display_name": ".venv",
   "language": "python",
   "name": "python3"
  },
  "language_info": {
   "codemirror_mode": {
    "name": "ipython",
    "version": 3
   },
   "file_extension": ".py",
   "mimetype": "text/x-python",
   "name": "python",
   "nbconvert_exporter": "python",
   "pygments_lexer": "ipython3",
   "version": "3.12.3"
  }
 },
 "nbformat": 4,
 "nbformat_minor": 2
}
