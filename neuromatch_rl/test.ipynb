{
 "cells": [
  {
   "cell_type": "code",
   "execution_count": 10,
   "metadata": {},
   "outputs": [
    {
     "name": "stdout",
     "output_type": "stream",
     "text": [
      "6\n",
      "Initial Observation: 0\n",
      "3\n",
      "1\n",
      "[tensor([[-1.2441e-02, -4.7906e-03,  6.4580e-03, -5.1458e-03, -5.7999e-03,\n",
      "          8.3065e-03,  2.8869e-04, -9.1672e-03,  2.1137e-02, -1.2234e-02,\n",
      "         -2.0311e-02, -1.6702e-02, -5.2950e-05, -1.0318e-02,  1.8982e-04,\n",
      "         -1.1052e-02,  6.8347e-03, -1.6421e-02,  1.7477e-02,  8.0385e-03]])]\n",
      "NTM Output: tensor([[0.4844, 0.4945, 0.5165, 0.4756, 0.5299, 0.5115]],\n",
      "       grad_fn=<SigmoidBackward0>)\n"
     ]
    }
   ],
   "source": [
    "import torch\n",
    "from env import DelaySampleToMatchEnv\n",
    "from lib import NTMMemory, LSTMController, NTMReadHead, NTMWriteHead, NTM\n",
    "# Assuming the NTM, environment, and other necessary components are imported and set up\n",
    "import torch.nn.functional as F\n",
    "# Initialize the environment\n",
    "reward_value = 10  # Example reward value\n",
    "env = DelaySampleToMatchEnv(reward=reward_value, n_stimuli=5, delay_length=1)\n",
    "\n",
    "# Initialize the NTM\n",
    "# Here you would have to define or import your controller, memory, and heads.\n",
    "# Below is an example placeholder for them.\n",
    "controller_size = 128\n",
    "memory = NTMMemory(N=128, M=20)  # Example memory size\n",
    "print(env.observation_space.n)\n",
    "controller = LSTMController(num_inputs=26, num_outputs=controller_size)\n",
    "heads = [NTMReadHead(memory, controller_size=128), NTMWriteHead(memory, controller_size=128)]\n",
    "\n",
    "ntm = NTM(num_inputs=env.observation_space.n, num_outputs=env.action_space.n, controller=controller, memory=memory, heads=heads)\n",
    "\n",
    "# Reset the environment and get the first stimulus\n",
    "initial_observation = env.reset()\n",
    "print(\"Initial Observation:\", initial_observation)\n",
    "\n",
    "n_stimuli=5\n",
    "# One-hot encode the initial observation\n",
    "one_hot_initial_observation = F.one_hot(torch.tensor(initial_observation), num_classes=n_stimuli + 1).float()\n",
    "one_hot_initial_observation = one_hot_initial_observation.unsqueeze(0)  # Add batch dimension\n",
    "\n",
    "# Prepare the NTM state\n",
    "batch_size = 1  # Single batch for this example\n",
    "ntm_state = ntm.create_new_state(batch_size)\n",
    "print(len(ntm_state))\n",
    "print(len(ntm_state[0]))\n",
    "print(ntm_state[0])\n",
    "memory.reset(batch_size)\n",
    "# Forward pass the first stimulus through the NTM\n",
    "output, ntm_state = ntm(one_hot_initial_observation, ntm_state)\n",
    "\n",
    "# Print the NTM's output for the first stimulus\n",
    "print(\"NTM Output:\", output)\n",
    "\n"
   ]
  },
  {
   "cell_type": "code",
   "execution_count": 1,
   "metadata": {},
   "outputs": [
    {
     "name": "stdout",
     "output_type": "stream",
     "text": [
      "/home/maria/andrej-karpathy-experiments/.venv /usr\n"
     ]
    }
   ],
   "source": [
    "import sys\n",
    "print(sys.prefix, sys.base_prefix)"
   ]
  },
  {
   "cell_type": "code",
   "execution_count": 2,
   "metadata": {},
   "outputs": [
    {
     "name": "stdout",
     "output_type": "stream",
     "text": [
      "Requirement already satisfied: gymnasium in /home/maria/NeuroGarage/.venv/lib/python3.10/site-packages (0.29.1)\n",
      "Requirement already satisfied: numpy>=1.21.0 in /home/maria/NeuroGarage/.venv/lib/python3.10/site-packages (from gymnasium) (1.23.5)\n",
      "Requirement already satisfied: cloudpickle>=1.2.0 in /home/maria/NeuroGarage/.venv/lib/python3.10/site-packages (from gymnasium) (3.0.0)\n",
      "Requirement already satisfied: typing-extensions>=4.3.0 in /home/maria/NeuroGarage/.venv/lib/python3.10/site-packages (from gymnasium) (4.12.2)\n",
      "Requirement already satisfied: farama-notifications>=0.0.1 in /home/maria/NeuroGarage/.venv/lib/python3.10/site-packages (from gymnasium) (0.0.4)\n"
     ]
    }
   ],
   "source": [
    "!pip install gymnasium"
   ]
  }
 ],
 "metadata": {
  "kernelspec": {
   "display_name": ".venv",
   "language": "python",
   "name": "python3"
  },
  "language_info": {
   "codemirror_mode": {
    "name": "ipython",
    "version": 3
   },
   "file_extension": ".py",
   "mimetype": "text/x-python",
   "name": "python",
   "nbconvert_exporter": "python",
   "pygments_lexer": "ipython3",
   "version": "3.12.3"
  }
 },
 "nbformat": 4,
 "nbformat_minor": 2
}
